{
 "cells": [
  {
   "cell_type": "markdown",
   "metadata": {},
   "source": [
    "# Will's Workspace\n",
    "## Just will and his coffee\n",
    "### ...and some equations and stuff"
   ]
  },
  {
   "cell_type": "code",
   "execution_count": 113,
   "metadata": {
    "collapsed": true
   },
   "outputs": [],
   "source": [
    "%matplotlib inline\n",
    "\n",
    "from math import *\n",
    "from modsim import *"
   ]
  },
  {
   "cell_type": "code",
   "execution_count": 158,
   "metadata": {},
   "outputs": [
    {
     "name": "stdout",
     "output_type": "stream",
     "text": [
      "0.000780775000566\n"
     ]
    }
   ],
   "source": [
    "#arbitrary\n",
    "#r-value\n",
    "init_temp = 37\n",
    "fin_temp = 28\n",
    "env_temp = .27\n",
    "t_end = 360\n",
    "#dt = 10\n",
    "\n",
    "def find_r(T_i, T_f, T_e, t_end):\n",
    "    coef = log((T_f - T_e) / (T_i - T_e))\n",
    "    return -coef / t_end\n",
    "\n",
    "r = find_r(init_temp, fin_temp, env_temp, t_end)\n",
    "print(r)"
   ]
  },
  {
   "cell_type": "code",
   "execution_count": 159,
   "metadata": {
    "collapsed": true
   },
   "outputs": [],
   "source": [
    "#specific heat of person\n",
    "c_lbs = 3500\n",
    "def add_weight(lbs):\n",
    "    return c_lbs * lbs\n",
    "\n",
    "c_avg = add_weight(62)"
   ]
  },
  {
   "cell_type": "code",
   "execution_count": 160,
   "metadata": {
    "collapsed": true
   },
   "outputs": [],
   "source": [
    "#arbitrary\n",
    "#heat produced by an individual\n",
    "mu = .002"
   ]
  },
  {
   "cell_type": "code",
   "execution_count": 161,
   "metadata": {
    "collapsed": true
   },
   "outputs": [],
   "source": [
    "#make system function\n",
    "def make_system(T_env=0, dt=10, lbs=62, mu=.002):\n",
    "    T_i = 37\n",
    "    r = .00556\n",
    "    c_lbs = 3500\n",
    "    \n",
    "    c = c_lbs * lbs\n",
    "    \n",
    "    system = System(T_env=T_env, T_i=T_i, \n",
    "                    r=r, mu=mu, c=c)\n",
    "    return system"
   ]
  },
  {
   "cell_type": "code",
   "execution_count": 162,
   "metadata": {
    "collapsed": true
   },
   "outputs": [],
   "source": [
    "def find_r(T_i, T_f, T_env, ):\n",
    "    coef = log((T_f - T_env) / (T_i - T_env))\n",
    "    return -coef / dt\n"
   ]
  },
  {
   "cell_type": "code",
   "execution_count": 165,
   "metadata": {},
   "outputs": [
    {
     "ename": "SyntaxError",
     "evalue": "invalid syntax (<ipython-input-165-0bcec0b4ad00>, line 1)",
     "output_type": "error",
     "traceback": [
      "\u001b[1;36m  File \u001b[1;32m\"<ipython-input-165-0bcec0b4ad00>\"\u001b[1;36m, line \u001b[1;32m1\u001b[0m\n\u001b[1;33m    def make_system(T_env=0, t_end=10, lbs=62, mu=.002, x=1,r_i =.r, dt=1):\u001b[0m\n\u001b[1;37m                                                                 ^\u001b[0m\n\u001b[1;31mSyntaxError\u001b[0m\u001b[1;31m:\u001b[0m invalid syntax\n"
     ]
    }
   ],
   "source": [
    "def make_system(T_env=0, t_end=10, lbs=62, mu=.002, x=1,r_i =.r, dt=1):\n",
    "    T_i = 37                                            #initial temp\n",
    "    c_lbs = 3500                                              \n",
    "    init = State(temp=T_i)\n",
    "    \n",
    "    c = c_lbs * lbs\n",
    "    r = r_i - .0005*(x-1)\n",
    "    \n",
    "    system = System(init=init, T_env=T_env, \n",
    "                    r=r, mu=mu, c=c, x=x,\n",
    "                    t0=0, t_end=t_end, dt=dt, T_i=T_i)\n",
    "    return system\n",
    "\n",
    "def update(state, dt, system): #updates the temperature using the function we developed\n",
    "    unpack(system)\n",
    "    T = state.temp\n",
    "    \n",
    "    T += -r * (T - T_env)*dt + mu * (x+1) #T is the temp of the person in the center\n",
    "    #print(T)\n",
    "    return State(temp=T)\n",
    "\n",
    "\n",
    "def run_sim(system, update_func):\n",
    "    \n",
    "    frame = TimeFrame(columns=system.init.index)\n",
    "    frame.loc[system.t0] = system.init\n",
    "    ts = linrange(system.t0, system.t_end-system.dt, system.dt)\n",
    "    \n",
    "    for t in ts:\n",
    "        frame.loc[t+dt] = update_func(frame.loc[t], system.dt, system)\n",
    "        #frame.loc[t+1] = update(system)\n",
    "    \n",
    "    system.results = frame\n",
    "    \n",
    "def plot_sim(system):               #simple plot function, needs to be updated to make it look prettier\n",
    "    plot(system.results, style= 'b-', label= 'temp')\n",
    "    decorate(xlabel='Time (min)',\n",
    "             ylabel='Body Temperature (Celsius)',\n",
    "             title='Body Temp over Time')\n",
    "    #savefig('ind_body_temp.pdf')"
   ]
  },
  {
   "cell_type": "code",
   "execution_count": 166,
   "metadata": {},
   "outputs": [
    {
     "data": {
      "image/png": "[encoded data removed]",
      "text/plain": [
       "<matplotlib.figure.Figure at 0x1b1943c85f8>"
      ]
     },
     "metadata": {},
     "output_type": "display_data"
    }
   ],
   "source": [
    "system = make_system(t_end=120, x=1, mu=0, dt= .5)\n",
    "run_sim(system, update)\n",
    "plot_sim(system)"
   ]
  },
  {
   "cell_type": "code",
   "execution_count": 55,
   "metadata": {
    "collapsed": true
   },
   "outputs": [],
   "source": [
    "#help(linrange)"
   ]
  },
  {
   "cell_type": "code",
   "execution_count": null,
   "metadata": {
    "collapsed": true
   },
   "outputs": [],
   "source": []
  }
 ],
 "metadata": {
  "kernelspec": {
   "display_name": "Python 3",
   "language": "python",
   "name": "python3"
  },
  "language_info": {
   "codemirror_mode": {
    "name": "ipython",
    "version": 3
   },
   "file_extension": ".py",
   "mimetype": "text/x-python",
   "name": "python",
   "nbconvert_exporter": "python",
   "pygments_lexer": "ipython3",
   "version": "3.6.1"
  }
 },
 "nbformat": 4,
 "nbformat_minor": 2
}
