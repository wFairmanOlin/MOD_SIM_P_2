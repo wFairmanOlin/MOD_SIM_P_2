{
 "cells": [
  {
   "cell_type": "markdown",
   "metadata": {},
   "source": [
    "# Corey's Workspace\n",
    "## Do not touch\n",
    "### A place for Corey to work quietly away from others. Thank you"
   ]
  },
  {
   "cell_type": "code",
   "execution_count": 5,
   "metadata": {
    "collapsed": true
   },
   "outputs": [],
   "source": [
    "%matplotlib inline\n",
    "\n",
    "from math import *\n",
    "from modsim import *"
   ]
  },
  {
   "cell_type": "code",
   "execution_count": 4,
   "metadata": {},
   "outputs": [
    {
     "name": "stdout",
     "output_type": "stream",
     "text": [
      "What\n",
      "Not a happy number :(\n",
      "[9, 81, 65, 61, 37, 58, 89, 145, 42, 20, 4, 16, 37]\n"
     ]
    }
   ],
   "source": [
    "#Corey's work will be placed here\n",
    "def fun(x):\n",
    "    a = []\n",
    "    y = True\n",
    "    while(y): #Endless while loops, yay!\n",
    "        b = [int(d) for d in str(x)] #Odd syntax but it works to create a list of the digits of a given number\n",
    "        sum1 = 0\n",
    "        for f in b:\n",
    "            sum1 += f**2\n",
    "        if sum1 == 1:\n",
    "            print(\"Happy number!\")\n",
    "            print(a)\n",
    "            return\n",
    "        elif sum1 in a:\n",
    "            print(\"Not a happy number :(\")\n",
    "            a.append(sum1)\n",
    "            print(a)\n",
    "            return\n",
    "        else:\n",
    "            a.append(sum1)\n",
    "        x = sum1\n",
    "print(\"What\")\n",
    "fun(3)\n",
    "\n"
   ]
  }
 ],
 "metadata": {
  "kernelspec": {
   "display_name": "Python 3",
   "language": "python",
   "name": "python3"
  },
  "language_info": {
   "codemirror_mode": {
    "name": "ipython",
    "version": 3
   },
   "file_extension": ".py",
   "mimetype": "text/x-python",
   "name": "python",
   "nbconvert_exporter": "python",
   "pygments_lexer": "ipython3",
   "version": "3.6.1"
  }
 },
 "nbformat": 4,
 "nbformat_minor": 2
}
