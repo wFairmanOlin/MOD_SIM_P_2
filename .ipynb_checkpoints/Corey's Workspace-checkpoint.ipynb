{
 "cells": [
  {
   "cell_type": "markdown",
   "metadata": {},
   "source": [
    "# Corey's Workspace\n",
    "## Do not touch\n",
    "### A place for Corey to work quietly away from others. Thank you"
   ]
  },
  {
   "cell_type": "code",
   "execution_count": 2,
   "metadata": {
    "collapsed": true
   },
   "outputs": [],
   "source": [
    "%matplotlib inline\n",
    "\n",
    "from math import *\n",
    "from modsim import *"
   ]
  },
  {
   "cell_type": "code",
   "execution_count": 3,
   "metadata": {},
   "outputs": [
    {
     "name": "stdout",
     "output_type": "stream",
     "text": [
      "What\n",
      "Not a happy number :(\n",
      "[65, 61, 37, 58, 89, 145, 42, 20, 4, 16, 37]\n"
     ]
    }
   ],
   "source": [
    "#Corey's work will be placed here\n",
    "print(\"What\")\n",
    "fun(74)\n",
    "\n"
   ]
  },
  {
   "cell_type": "markdown",
   "metadata": {},
   "source": [
    "# Run Space"
   ]
  },
  {
   "cell_type": "code",
   "execution_count": 6,
   "metadata": {},
   "outputs": [
    {
     "data": {
      "image/png": "[encoded data removed]",
      "text/plain": [
       "<matplotlib.figure.Figure at 0x2888bcec668>"
      ]
     },
     "metadata": {},
     "output_type": "display_data"
    }
   ],
   "source": [
    "sys = make_system(T_env=0,t_end=30,lbs=62,r_i=0,mu=0\n",
    "                                 ) #Creates system\n",
    "\n",
    "run_sim(sys,update)\n",
    "\n",
    "plot_sim(sys)\n",
    "\n",
    "\n",
    "#xsweep(sys,0,5,1,True)\n",
    "\n",
    "#print(sys.results)\n"
   ]
  },
  {
   "cell_type": "markdown",
   "metadata": {},
   "source": [
    "# Functions Used"
   ]
  },
  {
   "cell_type": "code",
   "execution_count": 5,
   "metadata": {
    "collapsed": true
   },
   "outputs": [],
   "source": []
  },
  {
   "cell_type": "code",
   "execution_count": 3,
   "metadata": {
    "collapsed": true
   },
   "outputs": [],
   "source": [
    "def make_system(T_env=0, t_end=10, lbs=62, mu=.002, x=1,r_i =.0008, dt=1):\n",
    "    T_i = 37                                            #initial temp\n",
    "    c_lbs = 3500                                              \n",
    "    init = State(temp=T_i)\n",
    "    \n",
    "    c = c_lbs * lbs\n",
    "    r = r_i - .0005*(x-1)\n",
    "    \n",
    "    system = System(init=init, T_env=T_env, \n",
    "                    r=r, mu=mu, c=c, x=x,\n",
    "                    t0=0, t_end=t_end, dt=dt, T_i=T_i)\n",
    "    return system\n",
    "\n",
    "def update(state, dt, system): #updates the temperature using the function we developed\n",
    "    unpack(system)\n",
    "    T = state.temp\n",
    "    \n",
    "    T += -r * (T - T_env)*dt + mu * (x+1) #T is the temp of the person in the center\n",
    "    #print(T)\n",
    "    return State(temp=T)\n",
    "\n",
    "\n",
    "def run_sim(system, update_func):\n",
    "    \n",
    "    frame = TimeFrame(columns=system.init.index)\n",
    "    frame.loc[system.t0] = system.init\n",
    "    ts = linrange(system.t0, system.t_end, system.dt)\n",
    "    \n",
    "    for t in ts:\n",
    "        frame.loc[t+dt] = update_func(frame.loc[t], system.dt, system)\n",
    "        #frame.loc[t+1] = update(system)\n",
    "    \n",
    "    system.results = frame\n",
    "    \n",
    "    \n",
    "def plot_sim(system):               #simple plot function, needs to be updated to make it look prettier\n",
    "    plot(system.results, style= 'b-', label= 'temp')\n",
    "    decorate(xlabel='Time (min)',\n",
    "             ylabel='Body Temperature (Celsius)',\n",
    "             title='Body Temp over Time')\n",
    "    #savefig('ind_body_temp.pdf')\n",
    "    \n",
    "def rsweep(system,r1,r2,st):\n",
    "    newfig()\n",
    "    lin = linrange(r1,r2,st)\n",
    "    for x in lin:\n",
    "        system.r = x\n",
    "        run_sim(system,update)\n",
    "        plot(system.results)\n",
    "    decorate(xlabel='Time (min)',\n",
    "             ylabel='Body Temperature (Celsius)',\n",
    "             title='Body Temp over Time')\n",
    "\n",
    "def xsweep(system,x1,x2,st,boo):\n",
    "    newfig()\n",
    "    lin = linrange(x1,x2,st)\n",
    "    for x in lin:\n",
    "        system.x = x\n",
    "        run_sim(system,update)\n",
    "        if boo:\n",
    "            plot(x,system.results.loc[system.t_end-1],'o')\n",
    "        else:\n",
    "            plot(system.results)\n",
    "    if boo:\n",
    "         decorate(xlabel='Number of People',\n",
    "             ylabel='Final Body Temperature (Celsius)',\n",
    "             title='Body Temp over Time')       \n",
    "    else:\n",
    "        decorate(xlabel='Time (min)',\n",
    "             ylabel='Body Temperature (Celsius)',\n",
    "             title='Body Temp over Time')\n",
    "    \n",
    "\n",
    "\n",
    "    \n",
    "    \n",
    "\n",
    "##################################################\n",
    "\n",
    "def find_r(T_i, T_f, T_env, ):\n",
    "    coef = log((T_f - T_env) / (T_i - T_env))\n",
    "    return -coef / dt\n",
    "\n",
    "def fun(x): #test FUNction\n",
    "    a = []\n",
    "    y = True\n",
    "    while(y): #Endless while loops, yay!\n",
    "        b = [int(d) for d in str(x)] #Odd syntax but it works to create a list of the digits of a given number\n",
    "        sum1 = 0\n",
    "        for f in b:\n",
    "            sum1 += f**2\n",
    "        if sum1 == 1:\n",
    "            print(\"Happy number!\")\n",
    "            print(a)\n",
    "            return\n",
    "        elif sum1 in a:\n",
    "            print(\"Not a happy number :(\")\n",
    "            a.append(sum1)\n",
    "            print(a)\n",
    "            return\n",
    "        else:\n",
    "            a.append(sum1)\n",
    "        x = sum1"
   ]
  },
  {
   "cell_type": "code",
   "execution_count": null,
   "metadata": {
    "collapsed": true
   },
   "outputs": [],
   "source": []
  }
 ],
 "metadata": {
  "kernelspec": {
   "display_name": "Python 3",
   "language": "python",
   "name": "python3"
  },
  "language_info": {
   "codemirror_mode": {
    "name": "ipython",
    "version": 3
   },
   "file_extension": ".py",
   "mimetype": "text/x-python",
   "name": "python",
   "nbconvert_exporter": "python",
   "pygments_lexer": "ipython3",
   "version": "3.6.1"
  }
 },
 "nbformat": 4,
 "nbformat_minor": 2
}
