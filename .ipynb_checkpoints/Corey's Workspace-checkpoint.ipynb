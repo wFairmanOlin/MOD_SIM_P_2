{
 "cells": [
  {
   "cell_type": "markdown",
   "metadata": {},
   "source": [
    "# Corey's Workspace\n",
    "## Do not touch\n",
    "### A place for Corey to work quietly away from others. Thank you"
   ]
  },
  {
   "cell_type": "code",
   "execution_count": 3,
   "metadata": {
    "collapsed": true
   },
   "outputs": [],
   "source": [
    "%matplotlib inline\n",
    "\n",
    "from math import *\n",
    "from modsim import *"
   ]
  },
  {
   "cell_type": "code",
   "execution_count": 15,
   "metadata": {},
   "outputs": [
    {
     "name": "stdout",
     "output_type": "stream",
     "text": [
      "What\n",
      "Not a happy number :(\n",
      "[65, 61, 37, 58, 89, 145, 42, 20, 4, 16, 37]\n"
     ]
    }
   ],
   "source": [
    "#Corey's work will be placed here\n",
    "print(\"What\")\n",
    "fun(74)\n",
    "\n"
   ]
  },
  {
   "cell_type": "markdown",
   "metadata": {},
   "source": [
    "# Run Space"
   ]
  },
  {
   "cell_type": "code",
   "execution_count": 39,
   "metadata": {},
   "outputs": [
    {
     "data": {
      "image/png": "[encoded data removed]",
      "text/plain": [
       "<matplotlib.figure.Figure at 0x1ee8743d4a8>"
      ]
     },
     "metadata": {},
     "output_type": "display_data"
    }
   ],
   "source": [
    "sys = make_system(T_env=25,t_end=120,lbs=62) #Creates system\n",
    "\n",
    "run_sim(sys,update)\n",
    "\n",
    "plotsim(sys)\n",
    "\n"
   ]
  },
  {
   "cell_type": "markdown",
   "metadata": {},
   "source": [
    "# Functions Used"
   ]
  },
  {
   "cell_type": "code",
   "execution_count": 38,
   "metadata": {
    "collapsed": true
   },
   "outputs": [],
   "source": [
    "\n",
    "\n",
    "def make_system(T_env=0, t_end=10, lbs=62, mu=.002, x=0,dt=1,r =.0556):\n",
    "    T_i = 37                                            #initial temp\n",
    "    c_lbs = 3500                                              \n",
    "    init = State(temp=T_i)\n",
    "    c = c_lbs * lbs\n",
    "    \n",
    "    system = System(init=init, T_env=T_env, \n",
    "                    r=r, mu=mu, c=c, x=x,\n",
    "                    t0=0, t_end=t_end,dt=dt,T_i=T_i)\n",
    "    return system\n",
    "\n",
    "def update(state,system): #updates the temperature using the function we developed\n",
    "    \n",
    "    T = state.temp\n",
    "    \n",
    "    T += -system.r * (T - system.T_env) * system.dt + system.mu * system.x #T is the temp of the person in the center\n",
    "    #print(T)\n",
    "    return State(temp=T)\n",
    "\n",
    "\n",
    "def run_sim(system,update_func):\n",
    "    \n",
    "    frame = TimeFrame(columns=system.init.index)\n",
    "    frame.loc[system.t0] = system.init\n",
    "    ts = linrange(system.t0,system.t_end-system.dt,system.dt)\n",
    "    \n",
    "    for t in ts:\n",
    "        frame.loc[t+system.dt] = update(frame.loc[t],system)\n",
    "    \n",
    "    system.results = frame\n",
    "    \n",
    "def plotsim(system):               #simple plot function, needs to be updated to make it look prettier\n",
    "    plot(system.results)\n",
    "\n",
    "    \n",
    "    \n",
    "\n",
    "##################################################\n",
    "\n",
    "def find_r(T_i, T_f, T_env, ):\n",
    "    coef = log((T_f - T_env) / (T_i - T_env))\n",
    "    return -coef / dt\n",
    "\n",
    "def fun(x): #test FUNction\n",
    "    a = []\n",
    "    y = True\n",
    "    while(y): #Endless while loops, yay!\n",
    "        b = [int(d) for d in str(x)] #Odd syntax but it works to create a list of the digits of a given number\n",
    "        sum1 = 0\n",
    "        for f in b:\n",
    "            sum1 += f**2\n",
    "        if sum1 == 1:\n",
    "            print(\"Happy number!\")\n",
    "            print(a)\n",
    "            return\n",
    "        elif sum1 in a:\n",
    "            print(\"Not a happy number :(\")\n",
    "            a.append(sum1)\n",
    "            print(a)\n",
    "            return\n",
    "        else:\n",
    "            a.append(sum1)\n",
    "        x = sum1"
   ]
  },
  {
   "cell_type": "code",
   "execution_count": null,
   "metadata": {
    "collapsed": true
   },
   "outputs": [],
   "source": []
  }
 ],
 "metadata": {
  "kernelspec": {
   "display_name": "Python 3",
   "language": "python",
   "name": "python3"
  },
  "language_info": {
   "codemirror_mode": {
    "name": "ipython",
    "version": 3
   },
   "file_extension": ".py",
   "mimetype": "text/x-python",
   "name": "python",
   "nbconvert_exporter": "python",
   "pygments_lexer": "ipython3",
   "version": "3.6.1"
  }
 },
 "nbformat": 4,
 "nbformat_minor": 2
}
