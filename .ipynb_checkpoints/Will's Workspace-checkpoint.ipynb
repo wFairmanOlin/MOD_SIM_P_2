{
 "cells": [
  {
   "cell_type": "markdown",
   "metadata": {},
   "source": [
    "# Will's Workspace\n",
    "## Just will and his coffee\n",
    "### ...and some equations and stuff"
   ]
  },
  {
   "cell_type": "code",
   "execution_count": 3,
   "metadata": {},
   "outputs": [],
   "source": [
    "%matplotlib inline\n",
    "\n",
    "from math import *\n",
    "from modsim import *"
   ]
  },
  {
   "cell_type": "code",
   "execution_count": 9,
   "metadata": {},
   "outputs": [],
   "source": [
    "#Find the r-value from hypo data\n",
    "#Verify specific heat value of humans\n",
    "#check parameters\n",
    "#start notebook?\n",
    "init_temp = 37\n",
    "fin_temp = 35\n",
    "env_temp = 0\n",
    "dt = 10\n",
    "\n",
    "def find_r(T_i, T_f, T_e, ):\n",
    "    coef = log((T_f - T_e) / (T_i - T_e))\n",
    "    return -coef / dt\n",
    "\n",
    "r = find_r(init_temp, fin_temp, env_temp)"
   ]
  },
  {
   "cell_type": "code",
   "execution_count": null,
   "metadata": {
    "collapsed": true
   },
   "outputs": [],
   "source": []
  }
 ],
 "metadata": {
  "kernelspec": {
   "display_name": "Python 3",
   "language": "python",
   "name": "python3"
  },
  "language_info": {
   "codemirror_mode": {
    "name": "ipython",
    "version": 3
   },
   "file_extension": ".py",
   "mimetype": "text/x-python",
   "name": "python",
   "nbconvert_exporter": "python",
   "pygments_lexer": "ipython3",
   "version": "3.6.1"
  }
 },
 "nbformat": 4,
 "nbformat_minor": 2
}
