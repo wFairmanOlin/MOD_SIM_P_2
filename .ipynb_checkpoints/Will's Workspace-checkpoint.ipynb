{
 "cells": [
  {
   "cell_type": "markdown",
   "metadata": {},
   "source": [
    "# Will's Workspace\n",
    "## Just will and his coffee\n",
    "### ...and some equations and stuff"
   ]
  },
  {
   "cell_type": "code",
   "execution_count": 3,
   "metadata": {
    "collapsed": true
   },
   "outputs": [],
   "source": [
    "%matplotlib inline\n",
    "\n",
    "from math import *\n",
    "from modsim import *"
   ]
  },
  {
   "cell_type": "code",
   "execution_count": 12,
   "metadata": {},
   "outputs": [
    {
     "name": "stdout",
     "output_type": "stream",
     "text": [
      "0.00555698511548\n"
     ]
    }
   ],
   "source": [
    "#arbitrary\n",
    "#r-value\n",
    "init_temp = 37\n",
    "fin_temp = 35\n",
    "env_temp = 0\n",
    "dt = 10\n",
    "\n",
    "def find_r(T_i, T_f, T_e, ):\n",
    "    coef = log((T_f - T_e) / (T_i - T_e))\n",
    "    return -coef / dt\n",
    "\n",
    "r = find_r(init_temp, fin_temp, env_temp)\n",
    "print(r)"
   ]
  },
  {
   "cell_type": "code",
   "execution_count": 10,
   "metadata": {
    "collapsed": true
   },
   "outputs": [],
   "source": [
    "#specific heat of person\n",
    "c_lbs = 3500\n",
    "def add_weight(lbs):\n",
    "    return c_lbs * lbs\n",
    "\n",
    "c_avg = add_weight(62)"
   ]
  },
  {
   "cell_type": "code",
   "execution_count": 11,
   "metadata": {
    "collapsed": true
   },
   "outputs": [],
   "source": [
    "#arbitrary\n",
    "#heat produced by an individual\n",
    "mu = .002"
   ]
  },
  {
   "cell_type": "code",
   "execution_count": 15,
   "metadata": {
    "collapsed": true
   },
   "outputs": [],
   "source": [
    "#make system function\n",
    "def make_system(T_env=0, dt=10, lbs=62, mu=.002):\n",
    "    T_i = 37\n",
    "    r = .00556\n",
    "    c_lbs = 3500\n",
    "    \n",
    "    c = c_lbs * lbs\n",
    "    \n",
    "    system = System(T_env=T_env, T_i=T_i, \n",
    "                    r=r, mu=mu, c=c)\n",
    "    return system"
   ]
  },
  {
   "cell_type": "code",
   "execution_count": 18,
   "metadata": {
    "collapsed": true
   },
   "outputs": [],
   "source": [
    "#ADD THESE\n",
    "def make_system(T_env=0, t_end=10, lbs=62, mu=.002, x=0):\n",
    "    T_i = 37\n",
    "    r = .00556\n",
    "    c_lbs = 3500\n",
    "    init = State(T=T_i)\n",
    "    c = c_lbs * lbs\n",
    "    \n",
    "    system = System(init, T_env=T_env, \n",
    "                    r=r, mu=mu, c=c, x=x,\n",
    "                    t0=0, t_end=t_end)\n",
    "    return system\n",
    "\n",
    "def find_r(T_i, T_f, T_env, ):\n",
    "    coef = log((T_f - T_env) / (T_i - T_env))\n",
    "    return -coef / dt"
   ]
  }
 ],
 "metadata": {
  "kernelspec": {
   "display_name": "Python 3",
   "language": "python",
   "name": "python3"
  },
  "language_info": {
   "codemirror_mode": {
    "name": "ipython",
    "version": 3
   },
   "file_extension": ".py",
   "mimetype": "text/x-python",
   "name": "python",
   "nbconvert_exporter": "python",
   "pygments_lexer": "ipython3",
   "version": "3.6.1"
  }
 },
 "nbformat": 4,
 "nbformat_minor": 2
}
